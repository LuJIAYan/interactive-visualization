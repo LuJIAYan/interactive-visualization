{
 "cells": [
  {
   "cell_type": "markdown",
   "metadata": {},
   "source": [
    "## 示范1：输出折线图并加入标题和图例\n"
   ]
  },
  {
   "cell_type": "code",
   "execution_count": 4,
   "metadata": {},
   "outputs": [
    {
     "data": {
      "text/html": [
       "<div>\n",
       "<style scoped>\n",
       "    .dataframe tbody tr th:only-of-type {\n",
       "        vertical-align: middle;\n",
       "    }\n",
       "\n",
       "    .dataframe tbody tr th {\n",
       "        vertical-align: top;\n",
       "    }\n",
       "\n",
       "    .dataframe thead th {\n",
       "        text-align: right;\n",
       "    }\n",
       "</style>\n",
       "<table border=\"1\" class=\"dataframe\">\n",
       "  <thead>\n",
       "    <tr style=\"text-align: right;\">\n",
       "      <th></th>\n",
       "      <th>Country</th>\n",
       "      <th>1990</th>\n",
       "      <th>1991</th>\n",
       "      <th>1992</th>\n",
       "      <th>1993</th>\n",
       "      <th>1994</th>\n",
       "      <th>1995</th>\n",
       "      <th>1996</th>\n",
       "      <th>1997</th>\n",
       "      <th>1998</th>\n",
       "      <th>...</th>\n",
       "      <th>2008</th>\n",
       "      <th>2009</th>\n",
       "      <th>2010</th>\n",
       "      <th>2011</th>\n",
       "      <th>2012</th>\n",
       "      <th>2013</th>\n",
       "      <th>2014</th>\n",
       "      <th>2015</th>\n",
       "      <th>2016</th>\n",
       "      <th>2017</th>\n",
       "    </tr>\n",
       "  </thead>\n",
       "  <tbody>\n",
       "    <tr>\n",
       "      <th>0</th>\n",
       "      <td>United States</td>\n",
       "      <td>6371000.54</td>\n",
       "      <td>6315615.19</td>\n",
       "      <td>6424934.36</td>\n",
       "      <td>6532069.60</td>\n",
       "      <td>6624835.79</td>\n",
       "      <td>6710067.3</td>\n",
       "      <td>6907699.05</td>\n",
       "      <td>6968461.97</td>\n",
       "      <td>7032526.01</td>\n",
       "      <td>...</td>\n",
       "      <td>7160600.81</td>\n",
       "      <td>6709369.15</td>\n",
       "      <td>6938591.68</td>\n",
       "      <td>6787419.03</td>\n",
       "      <td>6545969.33</td>\n",
       "      <td>6710218.18</td>\n",
       "      <td>6759995.63</td>\n",
       "      <td>6623775.48</td>\n",
       "      <td>6492267.43</td>\n",
       "      <td>6456718.19</td>\n",
       "    </tr>\n",
       "    <tr>\n",
       "      <th>1</th>\n",
       "      <td>European Union (28 countries)</td>\n",
       "      <td>5649529.34</td>\n",
       "      <td>5555045.95</td>\n",
       "      <td>5379830.54</td>\n",
       "      <td>5281540.39</td>\n",
       "      <td>5255297.27</td>\n",
       "      <td>5308544.0</td>\n",
       "      <td>5418671.89</td>\n",
       "      <td>5326316.82</td>\n",
       "      <td>5281519.48</td>\n",
       "      <td>...</td>\n",
       "      <td>5046999.43</td>\n",
       "      <td>4681900.46</td>\n",
       "      <td>4783627.79</td>\n",
       "      <td>4626382.21</td>\n",
       "      <td>4563064.71</td>\n",
       "      <td>4468920.46</td>\n",
       "      <td>4297635.77</td>\n",
       "      <td>4327313.20</td>\n",
       "      <td>4303391.87</td>\n",
       "      <td>4323163.15</td>\n",
       "    </tr>\n",
       "  </tbody>\n",
       "</table>\n",
       "<p>2 rows × 29 columns</p>\n",
       "</div>"
      ],
      "text/plain": [
       "                         Country        1990        1991        1992  \\\n",
       "0                  United States  6371000.54  6315615.19  6424934.36   \n",
       "1  European Union (28 countries)  5649529.34  5555045.95  5379830.54   \n",
       "\n",
       "         1993        1994       1995        1996        1997        1998  ...  \\\n",
       "0  6532069.60  6624835.79  6710067.3  6907699.05  6968461.97  7032526.01  ...   \n",
       "1  5281540.39  5255297.27  5308544.0  5418671.89  5326316.82  5281519.48  ...   \n",
       "\n",
       "         2008        2009        2010        2011        2012        2013  \\\n",
       "0  7160600.81  6709369.15  6938591.68  6787419.03  6545969.33  6710218.18   \n",
       "1  5046999.43  4681900.46  4783627.79  4626382.21  4563064.71  4468920.46   \n",
       "\n",
       "         2014        2015        2016        2017  \n",
       "0  6759995.63  6623775.48  6492267.43  6456718.19  \n",
       "1  4297635.77  4327313.20  4303391.87  4323163.15  \n",
       "\n",
       "[2 rows x 29 columns]"
      ]
     },
     "execution_count": 4,
     "metadata": {},
     "output_type": "execute_result"
    }
   ],
   "source": [
    "import pandas as pd\n",
    "df=pd.read_csv(\"oecd_carbon_emissions_data.csv\")\n",
    "df"
   ]
  },
  {
   "cell_type": "code",
   "execution_count": 5,
   "metadata": {},
   "outputs": [
    {
     "data": {
      "text/plain": [
       "RangeIndex(start=0, stop=2, step=1)"
      ]
     },
     "execution_count": 5,
     "metadata": {},
     "output_type": "execute_result"
    }
   ],
   "source": [
    "df.index #前面的序列没啥意义\n"
   ]
  },
  {
   "cell_type": "code",
   "execution_count": 6,
   "metadata": {},
   "outputs": [
    {
     "data": {
      "text/plain": [
       "Index(['Country', '1990', '1991', '1992', '1993', '1994', '1995', '1996',\n",
       "       '1997', '1998', '1999', '2000', '2001', '2002', '2003', '2004', '2005',\n",
       "       '2006', '2007', '2008', '2009', '2010', '2011', '2012', '2013', '2014',\n",
       "       '2015', '2016', '2017'],\n",
       "      dtype='object')"
      ]
     },
     "execution_count": 6,
     "metadata": {},
     "output_type": "execute_result"
    }
   ],
   "source": [
    "df.columns"
   ]
  },
  {
   "cell_type": "code",
   "execution_count": 7,
   "metadata": {},
   "outputs": [
    {
     "data": {
      "text/html": [
       "<div>\n",
       "<style scoped>\n",
       "    .dataframe tbody tr th:only-of-type {\n",
       "        vertical-align: middle;\n",
       "    }\n",
       "\n",
       "    .dataframe tbody tr th {\n",
       "        vertical-align: top;\n",
       "    }\n",
       "\n",
       "    .dataframe thead th {\n",
       "        text-align: right;\n",
       "    }\n",
       "</style>\n",
       "<table border=\"1\" class=\"dataframe\">\n",
       "  <thead>\n",
       "    <tr style=\"text-align: right;\">\n",
       "      <th></th>\n",
       "      <th>1990</th>\n",
       "      <th>1991</th>\n",
       "      <th>1992</th>\n",
       "      <th>1993</th>\n",
       "      <th>1994</th>\n",
       "      <th>1995</th>\n",
       "      <th>1996</th>\n",
       "      <th>1997</th>\n",
       "      <th>1998</th>\n",
       "      <th>1999</th>\n",
       "      <th>...</th>\n",
       "      <th>2008</th>\n",
       "      <th>2009</th>\n",
       "      <th>2010</th>\n",
       "      <th>2011</th>\n",
       "      <th>2012</th>\n",
       "      <th>2013</th>\n",
       "      <th>2014</th>\n",
       "      <th>2015</th>\n",
       "      <th>2016</th>\n",
       "      <th>2017</th>\n",
       "    </tr>\n",
       "    <tr>\n",
       "      <th>Country</th>\n",
       "      <th></th>\n",
       "      <th></th>\n",
       "      <th></th>\n",
       "      <th></th>\n",
       "      <th></th>\n",
       "      <th></th>\n",
       "      <th></th>\n",
       "      <th></th>\n",
       "      <th></th>\n",
       "      <th></th>\n",
       "      <th></th>\n",
       "      <th></th>\n",
       "      <th></th>\n",
       "      <th></th>\n",
       "      <th></th>\n",
       "      <th></th>\n",
       "      <th></th>\n",
       "      <th></th>\n",
       "      <th></th>\n",
       "      <th></th>\n",
       "      <th></th>\n",
       "    </tr>\n",
       "  </thead>\n",
       "  <tbody>\n",
       "    <tr>\n",
       "      <th>United States</th>\n",
       "      <td>6371000.54</td>\n",
       "      <td>6315615.19</td>\n",
       "      <td>6424934.36</td>\n",
       "      <td>6532069.60</td>\n",
       "      <td>6624835.79</td>\n",
       "      <td>6710067.3</td>\n",
       "      <td>6907699.05</td>\n",
       "      <td>6968461.97</td>\n",
       "      <td>7032526.01</td>\n",
       "      <td>7071461.46</td>\n",
       "      <td>...</td>\n",
       "      <td>7160600.81</td>\n",
       "      <td>6709369.15</td>\n",
       "      <td>6938591.68</td>\n",
       "      <td>6787419.03</td>\n",
       "      <td>6545969.33</td>\n",
       "      <td>6710218.18</td>\n",
       "      <td>6759995.63</td>\n",
       "      <td>6623775.48</td>\n",
       "      <td>6492267.43</td>\n",
       "      <td>6456718.19</td>\n",
       "    </tr>\n",
       "    <tr>\n",
       "      <th>European Union (28 countries)</th>\n",
       "      <td>5649529.34</td>\n",
       "      <td>5555045.95</td>\n",
       "      <td>5379830.54</td>\n",
       "      <td>5281540.39</td>\n",
       "      <td>5255297.27</td>\n",
       "      <td>5308544.0</td>\n",
       "      <td>5418671.89</td>\n",
       "      <td>5326316.82</td>\n",
       "      <td>5281519.48</td>\n",
       "      <td>5172643.92</td>\n",
       "      <td>...</td>\n",
       "      <td>5046999.43</td>\n",
       "      <td>4681900.46</td>\n",
       "      <td>4783627.79</td>\n",
       "      <td>4626382.21</td>\n",
       "      <td>4563064.71</td>\n",
       "      <td>4468920.46</td>\n",
       "      <td>4297635.77</td>\n",
       "      <td>4327313.20</td>\n",
       "      <td>4303391.87</td>\n",
       "      <td>4323163.15</td>\n",
       "    </tr>\n",
       "  </tbody>\n",
       "</table>\n",
       "<p>2 rows × 28 columns</p>\n",
       "</div>"
      ],
      "text/plain": [
       "                                     1990        1991        1992        1993  \\\n",
       "Country                                                                         \n",
       "United States                  6371000.54  6315615.19  6424934.36  6532069.60   \n",
       "European Union (28 countries)  5649529.34  5555045.95  5379830.54  5281540.39   \n",
       "\n",
       "                                     1994       1995        1996        1997  \\\n",
       "Country                                                                        \n",
       "United States                  6624835.79  6710067.3  6907699.05  6968461.97   \n",
       "European Union (28 countries)  5255297.27  5308544.0  5418671.89  5326316.82   \n",
       "\n",
       "                                     1998        1999  ...        2008  \\\n",
       "Country                                                ...               \n",
       "United States                  7032526.01  7071461.46  ...  7160600.81   \n",
       "European Union (28 countries)  5281519.48  5172643.92  ...  5046999.43   \n",
       "\n",
       "                                     2009        2010        2011        2012  \\\n",
       "Country                                                                         \n",
       "United States                  6709369.15  6938591.68  6787419.03  6545969.33   \n",
       "European Union (28 countries)  4681900.46  4783627.79  4626382.21  4563064.71   \n",
       "\n",
       "                                     2013        2014        2015        2016  \\\n",
       "Country                                                                         \n",
       "United States                  6710218.18  6759995.63  6623775.48  6492267.43   \n",
       "European Union (28 countries)  4468920.46  4297635.77  4327313.20  4303391.87   \n",
       "\n",
       "                                     2017  \n",
       "Country                                    \n",
       "United States                  6456718.19  \n",
       "European Union (28 countries)  4323163.15  \n",
       "\n",
       "[2 rows x 28 columns]"
      ]
     },
     "execution_count": 7,
     "metadata": {},
     "output_type": "execute_result"
    }
   ],
   "source": [
    "dfb=df.set_index(\"Country\") #提取想要的列\n",
    "dfb.head()"
   ]
  },
  {
   "cell_type": "code",
   "execution_count": 8,
   "metadata": {},
   "outputs": [
    {
     "data": {
      "text/plain": [
       "Index(['United States', 'European Union (28 countries)'], dtype='object', name='Country')"
      ]
     },
     "execution_count": 8,
     "metadata": {},
     "output_type": "execute_result"
    }
   ],
   "source": [
    "dfb.index"
   ]
  },
  {
   "cell_type": "code",
   "execution_count": 9,
   "metadata": {},
   "outputs": [
    {
     "data": {
      "text/plain": [
       "Index(['1990', '1991', '1992', '1993', '1994', '1995', '1996', '1997', '1998',\n",
       "       '1999', '2000', '2001', '2002', '2003', '2004', '2005', '2006', '2007',\n",
       "       '2008', '2009', '2010', '2011', '2012', '2013', '2014', '2015', '2016',\n",
       "       '2017'],\n",
       "      dtype='object')"
      ]
     },
     "execution_count": 9,
     "metadata": {},
     "output_type": "execute_result"
    }
   ],
   "source": [
    "dfb.columns #这个时候是字符串"
   ]
  },
  {
   "cell_type": "code",
   "execution_count": 11,
   "metadata": {},
   "outputs": [
    {
     "data": {
      "text/plain": [
       "[1990,\n",
       " 1991,\n",
       " 1992,\n",
       " 1993,\n",
       " 1994,\n",
       " 1995,\n",
       " 1996,\n",
       " 1997,\n",
       " 1998,\n",
       " 1999,\n",
       " 2000,\n",
       " 2001,\n",
       " 2002,\n",
       " 2003,\n",
       " 2004,\n",
       " 2005,\n",
       " 2006,\n",
       " 2007,\n",
       " 2008,\n",
       " 2009,\n",
       " 2010,\n",
       " 2011,\n",
       " 2012,\n",
       " 2013,\n",
       " 2014,\n",
       " 2015,\n",
       " 2016,\n",
       " 2017]"
      ]
     },
     "execution_count": 11,
     "metadata": {},
     "output_type": "execute_result"
    }
   ],
   "source": [
    "[int(x)for x in dfb.columns]  #将x轴的值整数化"
   ]
  },
  {
   "cell_type": "code",
   "execution_count": 12,
   "metadata": {},
   "outputs": [
    {
     "data": {
      "text/plain": [
       "1990    6371000.54\n",
       "1991    6315615.19\n",
       "1992    6424934.36\n",
       "1993    6532069.60\n",
       "1994    6624835.79\n",
       "1995    6710067.30\n",
       "1996    6907699.05\n",
       "1997    6968461.97\n",
       "1998    7032526.01\n",
       "1999    7071461.46\n",
       "2000    7232010.77\n",
       "2001    7116810.08\n",
       "2002    7156652.87\n",
       "2003    7199262.66\n",
       "2004    7333052.05\n",
       "2005    7339039.87\n",
       "2006    7270326.95\n",
       "2007    7369967.71\n",
       "2008    7160600.81\n",
       "2009    6709369.15\n",
       "2010    6938591.68\n",
       "2011    6787419.03\n",
       "2012    6545969.33\n",
       "2013    6710218.18\n",
       "2014    6759995.63\n",
       "2015    6623775.48\n",
       "2016    6492267.43\n",
       "2017    6456718.19\n",
       "Name: United States, dtype: float64"
      ]
     },
     "execution_count": 12,
     "metadata": {},
     "output_type": "execute_result"
    }
   ],
   "source": [
    "dfb.loc[\"United States\",:]  #loc是标签"
   ]
  },
  {
   "cell_type": "code",
   "execution_count": 22,
   "metadata": {},
   "outputs": [
    {
     "data": {
      "text/plain": [
       "'United States'"
      ]
     },
     "execution_count": 22,
     "metadata": {},
     "output_type": "execute_result"
    }
   ],
   "source": [
    "dfb.loc[\"United States\",:].name"
   ]
  },
  {
   "cell_type": "code",
   "execution_count": 23,
   "metadata": {},
   "outputs": [
    {
     "data": {
      "text/plain": [
       "array([6371000.54, 6315615.19, 6424934.36, 6532069.6 , 6624835.79,\n",
       "       6710067.3 , 6907699.05, 6968461.97, 7032526.01, 7071461.46,\n",
       "       7232010.77, 7116810.08, 7156652.87, 7199262.66, 7333052.05,\n",
       "       7339039.87, 7270326.95, 7369967.71, 7160600.81, 6709369.15,\n",
       "       6938591.68, 6787419.03, 6545969.33, 6710218.18, 6759995.63,\n",
       "       6623775.48, 6492267.43, 6456718.19])"
      ]
     },
     "execution_count": 23,
     "metadata": {},
     "output_type": "execute_result"
    }
   ],
   "source": [
    "dfb.loc[\"United States\",:].values"
   ]
  },
  {
   "cell_type": "code",
   "execution_count": 20,
   "metadata": {},
   "outputs": [
    {
     "data": {
      "text/plain": [
       "Index(['1990', '1991', '1992', '1993', '1994', '1995', '1996', '1997', '1998',\n",
       "       '1999', '2000', '2001', '2002', '2003', '2004', '2005', '2006', '2007',\n",
       "       '2008', '2009', '2010', '2011', '2012', '2013', '2014', '2015', '2016',\n",
       "       '2017'],\n",
       "      dtype='object')"
      ]
     },
     "execution_count": 20,
     "metadata": {},
     "output_type": "execute_result"
    }
   ],
   "source": [
    "dfb.loc[\"United States\",:].index"
   ]
  },
  {
   "cell_type": "code",
   "execution_count": 31,
   "metadata": {},
   "outputs": [
    {
     "data": {
      "text/plain": [
       "'输出中文.html'"
      ]
     },
     "execution_count": 31,
     "metadata": {},
     "output_type": "execute_result"
    }
   ],
   "source": [
    "#导入模块，设定x，y轴，并展示出来\n",
    "import plotly as py\n",
    "from plotly.graph_objs import Scatter, Layout, Data\n",
    "\n",
    "美国 = Scatter(\n",
    "    x=[int(x) for x in dfb.columns], #列表推导将字符串转换成整数\n",
    "    y=dfb.loc[\"United States\",:].values,\n",
    "    name = \"美国\"                    \n",
    ")\n",
    "\n",
    "欧盟28国 = Scatter(\n",
    "    x=[int(x) for x in dfb.columns], #列表推导将字符串转换成整数\n",
    "    y=dfb.loc[\"European Union (28 countries)\",:].values,\n",
    "     name = \"欧盟28国\"\n",
    ")\n",
    "\n",
    "layout = dict(title=\"碳排放量对比\", xaxis=dict(title='年份'), yaxis=dict(title='碳排放量') )  #利用Layout做排版，增加标题和轴坐标的说明文字\n",
    "\n",
    "fig = dict(data=[美国,欧盟28国], layout=layout) \n",
    "\n",
    "py.offline.plot(fig, filename = \"输出中文.html\") #修改图例名字，注意前后一致"
   ]
  },
  {
   "cell_type": "markdown",
   "metadata": {},
   "source": [
    "成功输出两条trace折线图"
   ]
  },
  {
   "cell_type": "markdown",
   "metadata": {},
   "source": [
    "## 示范2：实现时间序列的滑块与选择器"
   ]
  },
  {
   "cell_type": "markdown",
   "metadata": {},
   "source": [
    "## 时间戳处理"
   ]
  },
  {
   "cell_type": "code",
   "execution_count": 37,
   "metadata": {},
   "outputs": [
    {
     "data": {
      "text/plain": [
       "Index(['1990', '1991', '1992', '1993', '1994', '1995', '1996', '1997', '1998',\n",
       "       '1999', '2000', '2001', '2002', '2003', '2004', '2005', '2006', '2007',\n",
       "       '2008', '2009', '2010', '2011', '2012', '2013', '2014', '2015', '2016',\n",
       "       '2017'],\n",
       "      dtype='object')"
      ]
     },
     "execution_count": 37,
     "metadata": {},
     "output_type": "execute_result"
    }
   ],
   "source": [
    "dfb.columns  #字符串里面的数值"
   ]
  },
  {
   "cell_type": "code",
   "execution_count": 40,
   "metadata": {},
   "outputs": [
    {
     "data": {
      "text/plain": [
       "Timestamp('2005-05-23 00:00:00')"
      ]
     },
     "execution_count": 40,
     "metadata": {},
     "output_type": "execute_result"
    }
   ],
   "source": [
    "pd.to_datetime('05/23/2005', format=\"%m/%d/%Y\") #改成月日年的形式，顺序错了不行"
   ]
  },
  {
   "cell_type": "code",
   "execution_count": 35,
   "metadata": {},
   "outputs": [
    {
     "data": {
      "text/plain": [
       "[Timestamp('1990-01-01 00:00:00'),\n",
       " Timestamp('1991-01-01 00:00:00'),\n",
       " Timestamp('1992-01-01 00:00:00'),\n",
       " Timestamp('1993-01-01 00:00:00'),\n",
       " Timestamp('1994-01-01 00:00:00'),\n",
       " Timestamp('1995-01-01 00:00:00'),\n",
       " Timestamp('1996-01-01 00:00:00'),\n",
       " Timestamp('1997-01-01 00:00:00'),\n",
       " Timestamp('1998-01-01 00:00:00'),\n",
       " Timestamp('1999-01-01 00:00:00'),\n",
       " Timestamp('2000-01-01 00:00:00'),\n",
       " Timestamp('2001-01-01 00:00:00'),\n",
       " Timestamp('2002-01-01 00:00:00'),\n",
       " Timestamp('2003-01-01 00:00:00'),\n",
       " Timestamp('2004-01-01 00:00:00'),\n",
       " Timestamp('2005-01-01 00:00:00'),\n",
       " Timestamp('2006-01-01 00:00:00'),\n",
       " Timestamp('2007-01-01 00:00:00'),\n",
       " Timestamp('2008-01-01 00:00:00'),\n",
       " Timestamp('2009-01-01 00:00:00'),\n",
       " Timestamp('2010-01-01 00:00:00'),\n",
       " Timestamp('2011-01-01 00:00:00'),\n",
       " Timestamp('2012-01-01 00:00:00'),\n",
       " Timestamp('2013-01-01 00:00:00'),\n",
       " Timestamp('2014-01-01 00:00:00'),\n",
       " Timestamp('2015-01-01 00:00:00'),\n",
       " Timestamp('2016-01-01 00:00:00'),\n",
       " Timestamp('2017-01-01 00:00:00')]"
      ]
     },
     "execution_count": 35,
     "metadata": {},
     "output_type": "execute_result"
    }
   ],
   "source": [
    "[pd.to_datetime('01/01/{y}'.format(y=x), format=\"%m/%d/%Y\") for x in dfb.columns.values]  #年份做迭代处理"
   ]
  },
  {
   "cell_type": "code",
   "execution_count": 45,
   "metadata": {},
   "outputs": [
    {
     "data": {
      "text/plain": [
       "'test.html'"
      ]
     },
     "execution_count": 45,
     "metadata": {},
     "output_type": "execute_result"
    }
   ],
   "source": [
    "# 增加标题title，利用Layout做排版\n",
    "\n",
    "import plotly as py\n",
    "import plotly.graph_objs as go\n",
    "\n",
    "美国 = go.Scatter(\n",
    "    x=[pd.to_datetime('01/01/{y}'.format(y=x), format=\"%m/%d/%Y\") for x in dfb.columns.values],\n",
    "    y=dfb.loc[\"United States\",:].values,  #老师这个位置错了\n",
    "    name = \"美国\"\n",
    ")\n",
    "\n",
    "欧盟28国 = go.Scatter(\n",
    "    x=[pd.to_datetime('01/01/{y}'.format(y=x), format=\"%m/%d/%Y\") for x in dfb.columns.values],\n",
    "    y=dfb.loc[\"European Union (28 countries)\",:].values,\n",
    "    name = \"欧盟28国\"\n",
    ")\n",
    "\n",
    "layout = dict(xaxis=dict(rangeselector=dict( buttons=list([\n",
    "                                                dict(count=3,\n",
    "                                                     label=\"3年\",\n",
    "                                                     step=\"year\",\n",
    "                                                     stepmode=\"backward\"),\n",
    "                                                dict(count=5,\n",
    "                                                     label=\"5年\",\n",
    "                                                     step=\"year\",\n",
    "                                                     stepmode=\"backward\"),\n",
    "                                                dict(count=10,\n",
    "                                                     label=\"10年\",\n",
    "                                                     step=\"year\",\n",
    "                                                     stepmode=\"backward\"),\n",
    "                                                dict(count=20,\n",
    "                                                     label=\"20年\",\n",
    "                                                     step=\"year\",\n",
    "                                                     stepmode=\"backward\"),\n",
    "                                                dict(step=\"all\")\n",
    "                                            ])),\n",
    "                         rangeslider=dict(bgcolor=\"#70EC57\"),\n",
    "                         title='年份'\n",
    "                        ),\n",
    "              yaxis=dict(title='碳排放量'),\n",
    "              title=\"碳排放量对比\"               \n",
    "             )\n",
    "\n",
    "abc = dict(data=[美国,欧盟28国], layout=layout) \n",
    "\n",
    "py.offline.plot(abc, filename = \"test.html\")\n",
    "#              ^^^这里可以只放数据data，也可以将数据data和排版layout结合，这是典型的面向对象"
   ]
  },
  {
   "cell_type": "markdown",
   "metadata": {},
   "source": [
    "1.  xaxis表示对x轴进行定义；rangeselector表示对x轴的选择器进 行定义；buttons表示选择器的按钮，是一个列表形式，每个列表元素都 是一个选择器按钮。 \n",
    "2. “count=1,step='month'”表示这个选择器覆盖的时间长度是“1 × month”，即一个月。“label='1m'”表示选择器的标签为1m。 \n",
    "3.  stepmode有以下两种使用方法。 \n",
    "（1）当stepmode='backward'时，表示从后往前推进count × step时间。 例如，当count=1、step='year'时，表示时间范围将近一年。 \n",
    "（2）当 stepmode='todate'时，一般只有一种用法，就是计算今年以来 的时间。例如，当 count=1、step='year'时，表示时间范围从最后日期到 最后日期所在的年初，而不是近一年。"
   ]
  },
  {
   "cell_type": "markdown",
   "metadata": {},
   "source": [
    "# 自己上手实操啦"
   ]
  },
  {
   "cell_type": "code",
   "execution_count": 68,
   "metadata": {},
   "outputs": [
    {
     "data": {
      "text/html": [
       "<div>\n",
       "<style scoped>\n",
       "    .dataframe tbody tr th:only-of-type {\n",
       "        vertical-align: middle;\n",
       "    }\n",
       "\n",
       "    .dataframe tbody tr th {\n",
       "        vertical-align: top;\n",
       "    }\n",
       "\n",
       "    .dataframe thead th {\n",
       "        text-align: right;\n",
       "    }\n",
       "</style>\n",
       "<table border=\"1\" class=\"dataframe\">\n",
       "  <thead>\n",
       "    <tr style=\"text-align: right;\">\n",
       "      <th></th>\n",
       "      <th>地区</th>\n",
       "      <th>2012年</th>\n",
       "      <th>2013年</th>\n",
       "      <th>2014年</th>\n",
       "      <th>2015年</th>\n",
       "      <th>2016年</th>\n",
       "      <th>2017年</th>\n",
       "    </tr>\n",
       "  </thead>\n",
       "  <tbody>\n",
       "    <tr>\n",
       "      <th>0</th>\n",
       "      <td>北京</td>\n",
       "      <td>6.55</td>\n",
       "      <td>6.84</td>\n",
       "      <td>6.84</td>\n",
       "      <td>8.13</td>\n",
       "      <td>8.21</td>\n",
       "      <td>8.35</td>\n",
       "    </tr>\n",
       "    <tr>\n",
       "      <th>1</th>\n",
       "      <td>天津</td>\n",
       "      <td>2.23</td>\n",
       "      <td>2.32</td>\n",
       "      <td>2.53</td>\n",
       "      <td>2.84</td>\n",
       "      <td>3.34</td>\n",
       "      <td>4.43</td>\n",
       "    </tr>\n",
       "    <tr>\n",
       "      <th>2</th>\n",
       "      <td>河北</td>\n",
       "      <td>7.35</td>\n",
       "      <td>7.60</td>\n",
       "      <td>7.94</td>\n",
       "      <td>8.13</td>\n",
       "      <td>8.54</td>\n",
       "      <td>8.83</td>\n",
       "    </tr>\n",
       "    <tr>\n",
       "      <th>3</th>\n",
       "      <td>山西</td>\n",
       "      <td>3.57</td>\n",
       "      <td>3.63</td>\n",
       "      <td>4.04</td>\n",
       "      <td>4.20</td>\n",
       "      <td>4.30</td>\n",
       "      <td>6.40</td>\n",
       "    </tr>\n",
       "    <tr>\n",
       "      <th>4</th>\n",
       "      <td>内蒙古</td>\n",
       "      <td>4.67</td>\n",
       "      <td>4.93</td>\n",
       "      <td>5.74</td>\n",
       "      <td>6.31</td>\n",
       "      <td>6.56</td>\n",
       "      <td>6.72</td>\n",
       "    </tr>\n",
       "  </tbody>\n",
       "</table>\n",
       "</div>"
      ],
      "text/plain": [
       "    地区  2012年  2013年  2014年  2015年  2016年  2017年\n",
       "0   北京   6.55   6.84   6.84   8.13   8.21   8.35\n",
       "1   天津   2.23   2.32   2.53   2.84   3.34   4.43\n",
       "2   河北   7.35   7.60   7.94   8.13   8.54   8.83\n",
       "3   山西   3.57   3.63   4.04   4.20   4.30   6.40\n",
       "4  内蒙古   4.67   4.93   5.74   6.31   6.56   6.72"
      ]
     },
     "execution_count": 68,
     "metadata": {},
     "output_type": "execute_result"
    }
   ],
   "source": [
    "import pandas as pd\n",
    "df=pd.read_csv(\"城市绿植面积2.csv\",encoding='gbk')\n",
    "df.head()"
   ]
  },
  {
   "cell_type": "code",
   "execution_count": 69,
   "metadata": {},
   "outputs": [
    {
     "data": {
      "text/plain": [
       "RangeIndex(start=0, stop=31, step=1)"
      ]
     },
     "execution_count": 69,
     "metadata": {},
     "output_type": "execute_result"
    }
   ],
   "source": [
    "df.index"
   ]
  },
  {
   "cell_type": "code",
   "execution_count": 70,
   "metadata": {},
   "outputs": [
    {
     "data": {
      "text/plain": [
       "Index(['地区', '2012年', '2013年', '2014年', '2015年', '2016年', '2017年'], dtype='object')"
      ]
     },
     "execution_count": 70,
     "metadata": {},
     "output_type": "execute_result"
    }
   ],
   "source": [
    "df.columns"
   ]
  },
  {
   "cell_type": "code",
   "execution_count": 71,
   "metadata": {},
   "outputs": [
    {
     "data": {
      "text/html": [
       "<div>\n",
       "<style scoped>\n",
       "    .dataframe tbody tr th:only-of-type {\n",
       "        vertical-align: middle;\n",
       "    }\n",
       "\n",
       "    .dataframe tbody tr th {\n",
       "        vertical-align: top;\n",
       "    }\n",
       "\n",
       "    .dataframe thead th {\n",
       "        text-align: right;\n",
       "    }\n",
       "</style>\n",
       "<table border=\"1\" class=\"dataframe\">\n",
       "  <thead>\n",
       "    <tr style=\"text-align: right;\">\n",
       "      <th></th>\n",
       "      <th>2012年</th>\n",
       "      <th>2013年</th>\n",
       "      <th>2014年</th>\n",
       "      <th>2015年</th>\n",
       "      <th>2016年</th>\n",
       "      <th>2017年</th>\n",
       "    </tr>\n",
       "    <tr>\n",
       "      <th>地区</th>\n",
       "      <th></th>\n",
       "      <th></th>\n",
       "      <th></th>\n",
       "      <th></th>\n",
       "      <th></th>\n",
       "      <th></th>\n",
       "    </tr>\n",
       "  </thead>\n",
       "  <tbody>\n",
       "    <tr>\n",
       "      <th>北京</th>\n",
       "      <td>6.55</td>\n",
       "      <td>6.84</td>\n",
       "      <td>6.84</td>\n",
       "      <td>8.13</td>\n",
       "      <td>8.21</td>\n",
       "      <td>8.35</td>\n",
       "    </tr>\n",
       "    <tr>\n",
       "      <th>天津</th>\n",
       "      <td>2.23</td>\n",
       "      <td>2.32</td>\n",
       "      <td>2.53</td>\n",
       "      <td>2.84</td>\n",
       "      <td>3.34</td>\n",
       "      <td>4.43</td>\n",
       "    </tr>\n",
       "    <tr>\n",
       "      <th>河北</th>\n",
       "      <td>7.35</td>\n",
       "      <td>7.60</td>\n",
       "      <td>7.94</td>\n",
       "      <td>8.13</td>\n",
       "      <td>8.54</td>\n",
       "      <td>8.83</td>\n",
       "    </tr>\n",
       "    <tr>\n",
       "      <th>山西</th>\n",
       "      <td>3.57</td>\n",
       "      <td>3.63</td>\n",
       "      <td>4.04</td>\n",
       "      <td>4.20</td>\n",
       "      <td>4.30</td>\n",
       "      <td>6.40</td>\n",
       "    </tr>\n",
       "    <tr>\n",
       "      <th>内蒙古</th>\n",
       "      <td>4.67</td>\n",
       "      <td>4.93</td>\n",
       "      <td>5.74</td>\n",
       "      <td>6.31</td>\n",
       "      <td>6.56</td>\n",
       "      <td>6.72</td>\n",
       "    </tr>\n",
       "  </tbody>\n",
       "</table>\n",
       "</div>"
      ],
      "text/plain": [
       "     2012年  2013年  2014年  2015年  2016年  2017年\n",
       "地区                                           \n",
       "北京    6.55   6.84   6.84   8.13   8.21   8.35\n",
       "天津    2.23   2.32   2.53   2.84   3.34   4.43\n",
       "河北    7.35   7.60   7.94   8.13   8.54   8.83\n",
       "山西    3.57   3.63   4.04   4.20   4.30   6.40\n",
       "内蒙古   4.67   4.93   5.74   6.31   6.56   6.72"
      ]
     },
     "execution_count": 71,
     "metadata": {},
     "output_type": "execute_result"
    }
   ],
   "source": [
    "dfc=df.set_index(\"地区\")\n",
    "dfc.head()"
   ]
  },
  {
   "cell_type": "code",
   "execution_count": 72,
   "metadata": {},
   "outputs": [
    {
     "data": {
      "text/plain": [
       "Index(['北京', '天津', '河北', '山西', '内蒙古', '辽宁', '吉林', '黑龙江', '上海', '江苏', '浙江',\n",
       "       '安徽', '福建', '江西', '山东', '河南', '湖北', '湖南', '广东', '广西', '海南', '重庆', '四川',\n",
       "       '贵州', '云南', '西藏', '陕西', '甘肃', '青海', '宁夏', '新疆'],\n",
       "      dtype='object', name='地区')"
      ]
     },
     "execution_count": 72,
     "metadata": {},
     "output_type": "execute_result"
    }
   ],
   "source": [
    "dfc.index"
   ]
  },
  {
   "cell_type": "code",
   "execution_count": 73,
   "metadata": {},
   "outputs": [
    {
     "data": {
      "text/plain": [
       "Index(['2012年', '2013年', '2014年', '2015年', '2016年', '2017年'], dtype='object')"
      ]
     },
     "execution_count": 73,
     "metadata": {},
     "output_type": "execute_result"
    }
   ],
   "source": [
    "dfc.columns"
   ]
  },
  {
   "cell_type": "code",
   "execution_count": 75,
   "metadata": {},
   "outputs": [
    {
     "ename": "ValueError",
     "evalue": "invalid literal for int() with base 10: '2012年'",
     "output_type": "error",
     "traceback": [
      "\u001b[1;31m---------------------------------------------------------------------------\u001b[0m",
      "\u001b[1;31mValueError\u001b[0m                                Traceback (most recent call last)",
      "\u001b[1;32m<ipython-input-75-a722875ad3ea>\u001b[0m in \u001b[0;36m<module>\u001b[1;34m\u001b[0m\n\u001b[1;32m----> 1\u001b[1;33m \u001b[1;33m[\u001b[0m\u001b[0mint\u001b[0m\u001b[1;33m(\u001b[0m\u001b[0mx\u001b[0m\u001b[1;33m)\u001b[0m \u001b[1;32mfor\u001b[0m \u001b[0mx\u001b[0m \u001b[1;32min\u001b[0m \u001b[0mdfc\u001b[0m\u001b[1;33m.\u001b[0m\u001b[0mcolumns\u001b[0m\u001b[1;33m]\u001b[0m\u001b[1;33m\u001b[0m\u001b[1;33m\u001b[0m\u001b[0m\n\u001b[0m",
      "\u001b[1;32m<ipython-input-75-a722875ad3ea>\u001b[0m in \u001b[0;36m<listcomp>\u001b[1;34m(.0)\u001b[0m\n\u001b[1;32m----> 1\u001b[1;33m \u001b[1;33m[\u001b[0m\u001b[0mint\u001b[0m\u001b[1;33m(\u001b[0m\u001b[0mx\u001b[0m\u001b[1;33m)\u001b[0m \u001b[1;32mfor\u001b[0m \u001b[0mx\u001b[0m \u001b[1;32min\u001b[0m \u001b[0mdfc\u001b[0m\u001b[1;33m.\u001b[0m\u001b[0mcolumns\u001b[0m\u001b[1;33m]\u001b[0m\u001b[1;33m\u001b[0m\u001b[1;33m\u001b[0m\u001b[0m\n\u001b[0m",
      "\u001b[1;31mValueError\u001b[0m: invalid literal for int() with base 10: '2012年'"
     ]
    }
   ],
   "source": [
    "[int(x) for x in dfc.columns]   #数据太少，至少要10年"
   ]
  },
  {
   "cell_type": "code",
   "execution_count": 84,
   "metadata": {},
   "outputs": [
    {
     "data": {
      "text/html": [
       "<div>\n",
       "<style scoped>\n",
       "    .dataframe tbody tr th:only-of-type {\n",
       "        vertical-align: middle;\n",
       "    }\n",
       "\n",
       "    .dataframe tbody tr th {\n",
       "        vertical-align: top;\n",
       "    }\n",
       "\n",
       "    .dataframe thead th {\n",
       "        text-align: right;\n",
       "    }\n",
       "</style>\n",
       "<table border=\"1\" class=\"dataframe\">\n",
       "  <thead>\n",
       "    <tr style=\"text-align: right;\">\n",
       "      <th></th>\n",
       "      <th>地区</th>\n",
       "      <th>2017</th>\n",
       "      <th>2016</th>\n",
       "      <th>2015</th>\n",
       "      <th>2014</th>\n",
       "      <th>2013</th>\n",
       "      <th>2012</th>\n",
       "      <th>2011</th>\n",
       "      <th>2010</th>\n",
       "      <th>2009</th>\n",
       "      <th>2008</th>\n",
       "    </tr>\n",
       "  </thead>\n",
       "  <tbody>\n",
       "    <tr>\n",
       "      <th>0</th>\n",
       "      <td>北京市</td>\n",
       "      <td>29.8</td>\n",
       "      <td>35.1</td>\n",
       "      <td>26.8</td>\n",
       "      <td>20.30</td>\n",
       "      <td>24.81</td>\n",
       "      <td>39.50</td>\n",
       "      <td>26.81</td>\n",
       "      <td>23.1</td>\n",
       "      <td>21.84</td>\n",
       "      <td>34.2</td>\n",
       "    </tr>\n",
       "    <tr>\n",
       "      <th>1</th>\n",
       "      <td>天津市</td>\n",
       "      <td>13.0</td>\n",
       "      <td>18.9</td>\n",
       "      <td>12.8</td>\n",
       "      <td>11.37</td>\n",
       "      <td>14.64</td>\n",
       "      <td>32.94</td>\n",
       "      <td>15.39</td>\n",
       "      <td>9.2</td>\n",
       "      <td>15.24</td>\n",
       "      <td>18.3</td>\n",
       "    </tr>\n",
       "    <tr>\n",
       "      <th>2</th>\n",
       "      <td>河北省</td>\n",
       "      <td>138.3</td>\n",
       "      <td>208.3</td>\n",
       "      <td>135.1</td>\n",
       "      <td>106.16</td>\n",
       "      <td>175.86</td>\n",
       "      <td>235.53</td>\n",
       "      <td>157.15</td>\n",
       "      <td>138.9</td>\n",
       "      <td>141.16</td>\n",
       "      <td>161.0</td>\n",
       "    </tr>\n",
       "    <tr>\n",
       "      <th>3</th>\n",
       "      <td>山西省</td>\n",
       "      <td>130.2</td>\n",
       "      <td>134.1</td>\n",
       "      <td>94.0</td>\n",
       "      <td>111.01</td>\n",
       "      <td>126.55</td>\n",
       "      <td>106.25</td>\n",
       "      <td>124.34</td>\n",
       "      <td>91.5</td>\n",
       "      <td>85.76</td>\n",
       "      <td>87.4</td>\n",
       "    </tr>\n",
       "    <tr>\n",
       "      <th>4</th>\n",
       "      <td>内蒙古自治区</td>\n",
       "      <td>309.9</td>\n",
       "      <td>426.5</td>\n",
       "      <td>537.0</td>\n",
       "      <td>537.79</td>\n",
       "      <td>959.81</td>\n",
       "      <td>510.25</td>\n",
       "      <td>419.00</td>\n",
       "      <td>388.5</td>\n",
       "      <td>378.15</td>\n",
       "      <td>412.1</td>\n",
       "    </tr>\n",
       "    <tr>\n",
       "      <th>5</th>\n",
       "      <td>辽宁省</td>\n",
       "      <td>186.3</td>\n",
       "      <td>331.6</td>\n",
       "      <td>179.0</td>\n",
       "      <td>145.93</td>\n",
       "      <td>463.17</td>\n",
       "      <td>547.30</td>\n",
       "      <td>294.79</td>\n",
       "      <td>606.7</td>\n",
       "      <td>170.96</td>\n",
       "      <td>266.0</td>\n",
       "    </tr>\n",
       "    <tr>\n",
       "      <th>6</th>\n",
       "      <td>吉林省</td>\n",
       "      <td>394.4</td>\n",
       "      <td>488.8</td>\n",
       "      <td>331.3</td>\n",
       "      <td>306.03</td>\n",
       "      <td>607.40</td>\n",
       "      <td>460.47</td>\n",
       "      <td>315.89</td>\n",
       "      <td>686.7</td>\n",
       "      <td>298.04</td>\n",
       "      <td>332.0</td>\n",
       "    </tr>\n",
       "    <tr>\n",
       "      <th>7</th>\n",
       "      <td>黑龙江省</td>\n",
       "      <td>742.5</td>\n",
       "      <td>843.7</td>\n",
       "      <td>814.1</td>\n",
       "      <td>944.34</td>\n",
       "      <td>1419.58</td>\n",
       "      <td>841.41</td>\n",
       "      <td>629.48</td>\n",
       "      <td>853.5</td>\n",
       "      <td>989.61</td>\n",
       "      <td>462.0</td>\n",
       "    </tr>\n",
       "    <tr>\n",
       "      <th>8</th>\n",
       "      <td>上海市</td>\n",
       "      <td>34.0</td>\n",
       "      <td>61.0</td>\n",
       "      <td>64.1</td>\n",
       "      <td>47.15</td>\n",
       "      <td>28.03</td>\n",
       "      <td>33.90</td>\n",
       "      <td>20.72</td>\n",
       "      <td>36.8</td>\n",
       "      <td>41.57</td>\n",
       "      <td>37.0</td>\n",
       "    </tr>\n",
       "    <tr>\n",
       "      <th>9</th>\n",
       "      <td>江苏省</td>\n",
       "      <td>392.9</td>\n",
       "      <td>741.7</td>\n",
       "      <td>582.1</td>\n",
       "      <td>399.34</td>\n",
       "      <td>283.53</td>\n",
       "      <td>373.33</td>\n",
       "      <td>492.40</td>\n",
       "      <td>383.5</td>\n",
       "      <td>400.31</td>\n",
       "      <td>378.0</td>\n",
       "    </tr>\n",
       "    <tr>\n",
       "      <th>10</th>\n",
       "      <td>浙江省</td>\n",
       "      <td>895.3</td>\n",
       "      <td>1323.3</td>\n",
       "      <td>1407.1</td>\n",
       "      <td>1132.15</td>\n",
       "      <td>931.34</td>\n",
       "      <td>1444.79</td>\n",
       "      <td>744.96</td>\n",
       "      <td>1398.6</td>\n",
       "      <td>931.35</td>\n",
       "      <td>855.2</td>\n",
       "    </tr>\n",
       "    <tr>\n",
       "      <th>11</th>\n",
       "      <td>安徽省</td>\n",
       "      <td>784.9</td>\n",
       "      <td>1245.2</td>\n",
       "      <td>914.1</td>\n",
       "      <td>778.48</td>\n",
       "      <td>585.59</td>\n",
       "      <td>701.00</td>\n",
       "      <td>602.25</td>\n",
       "      <td>922.8</td>\n",
       "      <td>733.10</td>\n",
       "      <td>699.3</td>\n",
       "    </tr>\n",
       "    <tr>\n",
       "      <th>12</th>\n",
       "      <td>福建省</td>\n",
       "      <td>1055.6</td>\n",
       "      <td>2109.0</td>\n",
       "      <td>1325.9</td>\n",
       "      <td>1219.62</td>\n",
       "      <td>1151.90</td>\n",
       "      <td>1511.44</td>\n",
       "      <td>774.85</td>\n",
       "      <td>1652.7</td>\n",
       "      <td>800.81</td>\n",
       "      <td>1036.9</td>\n",
       "    </tr>\n",
       "    <tr>\n",
       "      <th>13</th>\n",
       "      <td>江西省</td>\n",
       "      <td>1655.1</td>\n",
       "      <td>2221.1</td>\n",
       "      <td>2001.2</td>\n",
       "      <td>1631.81</td>\n",
       "      <td>1423.99</td>\n",
       "      <td>2174.36</td>\n",
       "      <td>1037.88</td>\n",
       "      <td>2275.5</td>\n",
       "      <td>1166.91</td>\n",
       "      <td>1356.2</td>\n",
       "    </tr>\n",
       "    <tr>\n",
       "      <th>14</th>\n",
       "      <td>山东省</td>\n",
       "      <td>225.6</td>\n",
       "      <td>220.3</td>\n",
       "      <td>168.4</td>\n",
       "      <td>148.44</td>\n",
       "      <td>291.70</td>\n",
       "      <td>274.30</td>\n",
       "      <td>347.63</td>\n",
       "      <td>309.1</td>\n",
       "      <td>284.95</td>\n",
       "      <td>328.7</td>\n",
       "    </tr>\n",
       "    <tr>\n",
       "      <th>15</th>\n",
       "      <td>河南省</td>\n",
       "      <td>423.1</td>\n",
       "      <td>337.3</td>\n",
       "      <td>287.2</td>\n",
       "      <td>283.36</td>\n",
       "      <td>213.07</td>\n",
       "      <td>265.54</td>\n",
       "      <td>327.97</td>\n",
       "      <td>534.9</td>\n",
       "      <td>328.77</td>\n",
       "      <td>371.3</td>\n",
       "    </tr>\n",
       "    <tr>\n",
       "      <th>16</th>\n",
       "      <td>湖北省</td>\n",
       "      <td>1248.8</td>\n",
       "      <td>1498.0</td>\n",
       "      <td>1015.6</td>\n",
       "      <td>914.29</td>\n",
       "      <td>790.15</td>\n",
       "      <td>813.88</td>\n",
       "      <td>757.54</td>\n",
       "      <td>1268.7</td>\n",
       "      <td>825.28</td>\n",
       "      <td>1033.9</td>\n",
       "    </tr>\n",
       "    <tr>\n",
       "      <th>17</th>\n",
       "      <td>湖南省</td>\n",
       "      <td>1912.4</td>\n",
       "      <td>2196.6</td>\n",
       "      <td>1919.3</td>\n",
       "      <td>1799.43</td>\n",
       "      <td>1581.97</td>\n",
       "      <td>1988.94</td>\n",
       "      <td>1126.94</td>\n",
       "      <td>1906.6</td>\n",
       "      <td>1400.47</td>\n",
       "      <td>1600.0</td>\n",
       "    </tr>\n",
       "    <tr>\n",
       "      <th>18</th>\n",
       "      <td>广东省</td>\n",
       "      <td>1786.6</td>\n",
       "      <td>2458.6</td>\n",
       "      <td>1933.4</td>\n",
       "      <td>1718.45</td>\n",
       "      <td>2263.17</td>\n",
       "      <td>2026.55</td>\n",
       "      <td>1471.26</td>\n",
       "      <td>1998.8</td>\n",
       "      <td>1613.68</td>\n",
       "      <td>2206.8</td>\n",
       "    </tr>\n",
       "    <tr>\n",
       "      <th>19</th>\n",
       "      <td>广西壮族自治区</td>\n",
       "      <td>2388.0</td>\n",
       "      <td>2178.6</td>\n",
       "      <td>2433.6</td>\n",
       "      <td>1990.90</td>\n",
       "      <td>2057.33</td>\n",
       "      <td>2087.40</td>\n",
       "      <td>1350.02</td>\n",
       "      <td>1823.6</td>\n",
       "      <td>1484.31</td>\n",
       "      <td>2282.5</td>\n",
       "    </tr>\n",
       "    <tr>\n",
       "      <th>20</th>\n",
       "      <td>海南省</td>\n",
       "      <td>383.9</td>\n",
       "      <td>489.9</td>\n",
       "      <td>198.2</td>\n",
       "      <td>383.51</td>\n",
       "      <td>502.11</td>\n",
       "      <td>364.31</td>\n",
       "      <td>484.10</td>\n",
       "      <td>479.8</td>\n",
       "      <td>480.71</td>\n",
       "      <td>419.1</td>\n",
       "    </tr>\n",
       "    <tr>\n",
       "      <th>21</th>\n",
       "      <td>重庆市</td>\n",
       "      <td>656.1</td>\n",
       "      <td>604.9</td>\n",
       "      <td>456.2</td>\n",
       "      <td>642.58</td>\n",
       "      <td>474.35</td>\n",
       "      <td>476.89</td>\n",
       "      <td>514.58</td>\n",
       "      <td>464.3</td>\n",
       "      <td>455.92</td>\n",
       "      <td>576.9</td>\n",
       "    </tr>\n",
       "    <tr>\n",
       "      <th>22</th>\n",
       "      <td>四川省</td>\n",
       "      <td>2467.1</td>\n",
       "      <td>2340.9</td>\n",
       "      <td>2220.5</td>\n",
       "      <td>2557.66</td>\n",
       "      <td>2470.27</td>\n",
       "      <td>2892.36</td>\n",
       "      <td>2239.49</td>\n",
       "      <td>2575.3</td>\n",
       "      <td>2332.16</td>\n",
       "      <td>2489.9</td>\n",
       "    </tr>\n",
       "    <tr>\n",
       "      <th>23</th>\n",
       "      <td>贵州省</td>\n",
       "      <td>1051.5</td>\n",
       "      <td>1066.1</td>\n",
       "      <td>1153.7</td>\n",
       "      <td>1213.12</td>\n",
       "      <td>759.44</td>\n",
       "      <td>974.02</td>\n",
       "      <td>626.02</td>\n",
       "      <td>956.5</td>\n",
       "      <td>910.03</td>\n",
       "      <td>1140.7</td>\n",
       "    </tr>\n",
       "    <tr>\n",
       "      <th>24</th>\n",
       "      <td>云南省</td>\n",
       "      <td>2202.6</td>\n",
       "      <td>2088.9</td>\n",
       "      <td>1871.9</td>\n",
       "      <td>1726.63</td>\n",
       "      <td>1706.69</td>\n",
       "      <td>1689.77</td>\n",
       "      <td>1480.20</td>\n",
       "      <td>1941.4</td>\n",
       "      <td>1576.60</td>\n",
       "      <td>2314.5</td>\n",
       "    </tr>\n",
       "    <tr>\n",
       "      <th>25</th>\n",
       "      <td>西藏自治区</td>\n",
       "      <td>4749.9</td>\n",
       "      <td>4642.2</td>\n",
       "      <td>3853.0</td>\n",
       "      <td>4416.30</td>\n",
       "      <td>4415.74</td>\n",
       "      <td>4196.35</td>\n",
       "      <td>4402.71</td>\n",
       "      <td>4593.0</td>\n",
       "      <td>4029.16</td>\n",
       "      <td>4560.2</td>\n",
       "    </tr>\n",
       "    <tr>\n",
       "      <th>26</th>\n",
       "      <td>陕西省</td>\n",
       "      <td>449.1</td>\n",
       "      <td>271.5</td>\n",
       "      <td>333.4</td>\n",
       "      <td>351.64</td>\n",
       "      <td>353.78</td>\n",
       "      <td>390.49</td>\n",
       "      <td>604.42</td>\n",
       "      <td>507.5</td>\n",
       "      <td>416.49</td>\n",
       "      <td>304.0</td>\n",
       "    </tr>\n",
       "    <tr>\n",
       "      <th>27</th>\n",
       "      <td>甘肃省</td>\n",
       "      <td>238.9</td>\n",
       "      <td>168.4</td>\n",
       "      <td>164.8</td>\n",
       "      <td>198.38</td>\n",
       "      <td>268.90</td>\n",
       "      <td>266.95</td>\n",
       "      <td>242.21</td>\n",
       "      <td>215.2</td>\n",
       "      <td>209.02</td>\n",
       "      <td>187.5</td>\n",
       "    </tr>\n",
       "    <tr>\n",
       "      <th>28</th>\n",
       "      <td>青海省</td>\n",
       "      <td>785.7</td>\n",
       "      <td>612.7</td>\n",
       "      <td>589.3</td>\n",
       "      <td>793.86</td>\n",
       "      <td>645.61</td>\n",
       "      <td>895.22</td>\n",
       "      <td>733.12</td>\n",
       "      <td>741.1</td>\n",
       "      <td>895.11</td>\n",
       "      <td>658.1</td>\n",
       "    </tr>\n",
       "    <tr>\n",
       "      <th>29</th>\n",
       "      <td>宁夏回族自治区</td>\n",
       "      <td>10.8</td>\n",
       "      <td>9.6</td>\n",
       "      <td>9.2</td>\n",
       "      <td>10.07</td>\n",
       "      <td>11.40</td>\n",
       "      <td>10.81</td>\n",
       "      <td>8.76</td>\n",
       "      <td>9.3</td>\n",
       "      <td>8.42</td>\n",
       "      <td>9.2</td>\n",
       "    </tr>\n",
       "    <tr>\n",
       "      <th>30</th>\n",
       "      <td>新疆维吾尔自治区</td>\n",
       "      <td>1018.6</td>\n",
       "      <td>1093.4</td>\n",
       "      <td>930.3</td>\n",
       "      <td>726.93</td>\n",
       "      <td>955.99</td>\n",
       "      <td>900.63</td>\n",
       "      <td>885.65</td>\n",
       "      <td>1113.1</td>\n",
       "      <td>754.31</td>\n",
       "      <td>815.6</td>\n",
       "    </tr>\n",
       "  </tbody>\n",
       "</table>\n",
       "</div>"
      ],
      "text/plain": [
       "          地区    2017    2016    2015     2014     2013     2012     2011  \\\n",
       "0        北京市    29.8    35.1    26.8    20.30    24.81    39.50    26.81   \n",
       "1        天津市    13.0    18.9    12.8    11.37    14.64    32.94    15.39   \n",
       "2        河北省   138.3   208.3   135.1   106.16   175.86   235.53   157.15   \n",
       "3        山西省   130.2   134.1    94.0   111.01   126.55   106.25   124.34   \n",
       "4     内蒙古自治区   309.9   426.5   537.0   537.79   959.81   510.25   419.00   \n",
       "5        辽宁省   186.3   331.6   179.0   145.93   463.17   547.30   294.79   \n",
       "6        吉林省   394.4   488.8   331.3   306.03   607.40   460.47   315.89   \n",
       "7       黑龙江省   742.5   843.7   814.1   944.34  1419.58   841.41   629.48   \n",
       "8        上海市    34.0    61.0    64.1    47.15    28.03    33.90    20.72   \n",
       "9        江苏省   392.9   741.7   582.1   399.34   283.53   373.33   492.40   \n",
       "10       浙江省   895.3  1323.3  1407.1  1132.15   931.34  1444.79   744.96   \n",
       "11       安徽省   784.9  1245.2   914.1   778.48   585.59   701.00   602.25   \n",
       "12       福建省  1055.6  2109.0  1325.9  1219.62  1151.90  1511.44   774.85   \n",
       "13       江西省  1655.1  2221.1  2001.2  1631.81  1423.99  2174.36  1037.88   \n",
       "14       山东省   225.6   220.3   168.4   148.44   291.70   274.30   347.63   \n",
       "15       河南省   423.1   337.3   287.2   283.36   213.07   265.54   327.97   \n",
       "16       湖北省  1248.8  1498.0  1015.6   914.29   790.15   813.88   757.54   \n",
       "17       湖南省  1912.4  2196.6  1919.3  1799.43  1581.97  1988.94  1126.94   \n",
       "18       广东省  1786.6  2458.6  1933.4  1718.45  2263.17  2026.55  1471.26   \n",
       "19   广西壮族自治区  2388.0  2178.6  2433.6  1990.90  2057.33  2087.40  1350.02   \n",
       "20       海南省   383.9   489.9   198.2   383.51   502.11   364.31   484.10   \n",
       "21       重庆市   656.1   604.9   456.2   642.58   474.35   476.89   514.58   \n",
       "22       四川省  2467.1  2340.9  2220.5  2557.66  2470.27  2892.36  2239.49   \n",
       "23       贵州省  1051.5  1066.1  1153.7  1213.12   759.44   974.02   626.02   \n",
       "24       云南省  2202.6  2088.9  1871.9  1726.63  1706.69  1689.77  1480.20   \n",
       "25     西藏自治区  4749.9  4642.2  3853.0  4416.30  4415.74  4196.35  4402.71   \n",
       "26       陕西省   449.1   271.5   333.4   351.64   353.78   390.49   604.42   \n",
       "27       甘肃省   238.9   168.4   164.8   198.38   268.90   266.95   242.21   \n",
       "28       青海省   785.7   612.7   589.3   793.86   645.61   895.22   733.12   \n",
       "29   宁夏回族自治区    10.8     9.6     9.2    10.07    11.40    10.81     8.76   \n",
       "30  新疆维吾尔自治区  1018.6  1093.4   930.3   726.93   955.99   900.63   885.65   \n",
       "\n",
       "      2010     2009    2008  \n",
       "0     23.1    21.84    34.2  \n",
       "1      9.2    15.24    18.3  \n",
       "2    138.9   141.16   161.0  \n",
       "3     91.5    85.76    87.4  \n",
       "4    388.5   378.15   412.1  \n",
       "5    606.7   170.96   266.0  \n",
       "6    686.7   298.04   332.0  \n",
       "7    853.5   989.61   462.0  \n",
       "8     36.8    41.57    37.0  \n",
       "9    383.5   400.31   378.0  \n",
       "10  1398.6   931.35   855.2  \n",
       "11   922.8   733.10   699.3  \n",
       "12  1652.7   800.81  1036.9  \n",
       "13  2275.5  1166.91  1356.2  \n",
       "14   309.1   284.95   328.7  \n",
       "15   534.9   328.77   371.3  \n",
       "16  1268.7   825.28  1033.9  \n",
       "17  1906.6  1400.47  1600.0  \n",
       "18  1998.8  1613.68  2206.8  \n",
       "19  1823.6  1484.31  2282.5  \n",
       "20   479.8   480.71   419.1  \n",
       "21   464.3   455.92   576.9  \n",
       "22  2575.3  2332.16  2489.9  \n",
       "23   956.5   910.03  1140.7  \n",
       "24  1941.4  1576.60  2314.5  \n",
       "25  4593.0  4029.16  4560.2  \n",
       "26   507.5   416.49   304.0  \n",
       "27   215.2   209.02   187.5  \n",
       "28   741.1   895.11   658.1  \n",
       "29     9.3     8.42     9.2  \n",
       "30  1113.1   754.31   815.6  "
      ]
     },
     "execution_count": 84,
     "metadata": {},
     "output_type": "execute_result"
    }
   ],
   "source": [
    "import pandas as pd\n",
    "df=pd.read_csv(\"水资源总量分省年度数据 .csv\",encoding='gbk')\n",
    "df"
   ]
  },
  {
   "cell_type": "code",
   "execution_count": 85,
   "metadata": {},
   "outputs": [
    {
     "data": {
      "text/html": [
       "<div>\n",
       "<style scoped>\n",
       "    .dataframe tbody tr th:only-of-type {\n",
       "        vertical-align: middle;\n",
       "    }\n",
       "\n",
       "    .dataframe tbody tr th {\n",
       "        vertical-align: top;\n",
       "    }\n",
       "\n",
       "    .dataframe thead th {\n",
       "        text-align: right;\n",
       "    }\n",
       "</style>\n",
       "<table border=\"1\" class=\"dataframe\">\n",
       "  <thead>\n",
       "    <tr style=\"text-align: right;\">\n",
       "      <th></th>\n",
       "      <th>2017</th>\n",
       "      <th>2016</th>\n",
       "      <th>2015</th>\n",
       "      <th>2014</th>\n",
       "      <th>2013</th>\n",
       "      <th>2012</th>\n",
       "      <th>2011</th>\n",
       "      <th>2010</th>\n",
       "      <th>2009</th>\n",
       "      <th>2008</th>\n",
       "    </tr>\n",
       "    <tr>\n",
       "      <th>地区</th>\n",
       "      <th></th>\n",
       "      <th></th>\n",
       "      <th></th>\n",
       "      <th></th>\n",
       "      <th></th>\n",
       "      <th></th>\n",
       "      <th></th>\n",
       "      <th></th>\n",
       "      <th></th>\n",
       "      <th></th>\n",
       "    </tr>\n",
       "  </thead>\n",
       "  <tbody>\n",
       "    <tr>\n",
       "      <th>北京市</th>\n",
       "      <td>29.8</td>\n",
       "      <td>35.1</td>\n",
       "      <td>26.8</td>\n",
       "      <td>20.30</td>\n",
       "      <td>24.81</td>\n",
       "      <td>39.50</td>\n",
       "      <td>26.81</td>\n",
       "      <td>23.1</td>\n",
       "      <td>21.84</td>\n",
       "      <td>34.2</td>\n",
       "    </tr>\n",
       "    <tr>\n",
       "      <th>天津市</th>\n",
       "      <td>13.0</td>\n",
       "      <td>18.9</td>\n",
       "      <td>12.8</td>\n",
       "      <td>11.37</td>\n",
       "      <td>14.64</td>\n",
       "      <td>32.94</td>\n",
       "      <td>15.39</td>\n",
       "      <td>9.2</td>\n",
       "      <td>15.24</td>\n",
       "      <td>18.3</td>\n",
       "    </tr>\n",
       "    <tr>\n",
       "      <th>河北省</th>\n",
       "      <td>138.3</td>\n",
       "      <td>208.3</td>\n",
       "      <td>135.1</td>\n",
       "      <td>106.16</td>\n",
       "      <td>175.86</td>\n",
       "      <td>235.53</td>\n",
       "      <td>157.15</td>\n",
       "      <td>138.9</td>\n",
       "      <td>141.16</td>\n",
       "      <td>161.0</td>\n",
       "    </tr>\n",
       "    <tr>\n",
       "      <th>山西省</th>\n",
       "      <td>130.2</td>\n",
       "      <td>134.1</td>\n",
       "      <td>94.0</td>\n",
       "      <td>111.01</td>\n",
       "      <td>126.55</td>\n",
       "      <td>106.25</td>\n",
       "      <td>124.34</td>\n",
       "      <td>91.5</td>\n",
       "      <td>85.76</td>\n",
       "      <td>87.4</td>\n",
       "    </tr>\n",
       "    <tr>\n",
       "      <th>内蒙古自治区</th>\n",
       "      <td>309.9</td>\n",
       "      <td>426.5</td>\n",
       "      <td>537.0</td>\n",
       "      <td>537.79</td>\n",
       "      <td>959.81</td>\n",
       "      <td>510.25</td>\n",
       "      <td>419.00</td>\n",
       "      <td>388.5</td>\n",
       "      <td>378.15</td>\n",
       "      <td>412.1</td>\n",
       "    </tr>\n",
       "  </tbody>\n",
       "</table>\n",
       "</div>"
      ],
      "text/plain": [
       "         2017   2016   2015    2014    2013    2012    2011   2010    2009  \\\n",
       "地区                                                                           \n",
       "北京市      29.8   35.1   26.8   20.30   24.81   39.50   26.81   23.1   21.84   \n",
       "天津市      13.0   18.9   12.8   11.37   14.64   32.94   15.39    9.2   15.24   \n",
       "河北省     138.3  208.3  135.1  106.16  175.86  235.53  157.15  138.9  141.16   \n",
       "山西省     130.2  134.1   94.0  111.01  126.55  106.25  124.34   91.5   85.76   \n",
       "内蒙古自治区  309.9  426.5  537.0  537.79  959.81  510.25  419.00  388.5  378.15   \n",
       "\n",
       "         2008  \n",
       "地区             \n",
       "北京市      34.2  \n",
       "天津市      18.3  \n",
       "河北省     161.0  \n",
       "山西省      87.4  \n",
       "内蒙古自治区  412.1  "
      ]
     },
     "execution_count": 85,
     "metadata": {},
     "output_type": "execute_result"
    }
   ],
   "source": [
    "dfe=df.set_index(\"地区\")\n",
    "dfe.head()"
   ]
  },
  {
   "cell_type": "code",
   "execution_count": 86,
   "metadata": {},
   "outputs": [
    {
     "data": {
      "text/plain": [
       "Index(['北京市', '天津市', '河北省', '山西省', '内蒙古自治区', '辽宁省', '吉林省', '黑龙江省', '上海市',\n",
       "       '江苏省', '浙江省', '安徽省', '福建省', '江西省', '山东省', '河南省', '湖北省', '湖南省', '广东省',\n",
       "       '广西壮族自治区', '海南省', '重庆市', '四川省', '贵州省', '云南省', '西藏自治区', '陕西省', '甘肃省',\n",
       "       '青海省', '宁夏回族自治区', '新疆维吾尔自治区'],\n",
       "      dtype='object', name='地区')"
      ]
     },
     "execution_count": 86,
     "metadata": {},
     "output_type": "execute_result"
    }
   ],
   "source": [
    "dfe.index"
   ]
  },
  {
   "cell_type": "code",
   "execution_count": 87,
   "metadata": {},
   "outputs": [
    {
     "data": {
      "text/plain": [
       "Index(['2017', '2016', '2015', '2014', '2013', '2012', '2011', '2010', '2009',\n",
       "       '2008'],\n",
       "      dtype='object')"
      ]
     },
     "execution_count": 87,
     "metadata": {},
     "output_type": "execute_result"
    }
   ],
   "source": [
    "dfe.columns"
   ]
  },
  {
   "cell_type": "code",
   "execution_count": 88,
   "metadata": {},
   "outputs": [
    {
     "data": {
      "text/plain": [
       "[2017, 2016, 2015, 2014, 2013, 2012, 2011, 2010, 2009, 2008]"
      ]
     },
     "execution_count": 88,
     "metadata": {},
     "output_type": "execute_result"
    }
   ],
   "source": [
    "[int(x) for x in dfe.columns]"
   ]
  },
  {
   "cell_type": "code",
   "execution_count": 91,
   "metadata": {},
   "outputs": [
    {
     "data": {
      "text/plain": [
       "2012年    6.55\n",
       "2013年    6.84\n",
       "2014年    6.84\n",
       "2015年    8.13\n",
       "2016年    8.21\n",
       "2017年    8.35\n",
       "Name: 北京, dtype: float64"
      ]
     },
     "execution_count": 91,
     "metadata": {},
     "output_type": "execute_result"
    }
   ],
   "source": [
    "dfc.loc[\"北京\",:]  #单位亿立方米"
   ]
  },
  {
   "cell_type": "code",
   "execution_count": 92,
   "metadata": {},
   "outputs": [
    {
     "data": {
      "text/plain": [
       "array([6.55, 6.84, 6.84, 8.13, 8.21, 8.35])"
      ]
     },
     "execution_count": 92,
     "metadata": {},
     "output_type": "execute_result"
    }
   ],
   "source": [
    "dfc.loc[\"北京\",:].values"
   ]
  },
  {
   "cell_type": "code",
   "execution_count": 99,
   "metadata": {},
   "outputs": [
    {
     "data": {
      "text/plain": [
       "'output_water.html'"
      ]
     },
     "execution_count": 99,
     "metadata": {},
     "output_type": "execute_result"
    }
   ],
   "source": [
    "#导入模块，设定x，y轴，并展示出来\n",
    "import plotly as py\n",
    "from plotly.graph_objs import Scatter, Layout, Data\n",
    "\n",
    "北京 = Scatter(\n",
    "    x=[int(x) for x in dfe.columns], #列表推导将字符串转换成整数\n",
    "    y=dfe.loc[\"北京市\",:].values,\n",
    "    name = \"北京\"                    \n",
    ")\n",
    "\n",
    "广东 = Scatter(\n",
    "    x=[int(x) for x in dfe.columns], #列表推导将字符串转换成整数\n",
    "    y=dfe.loc[\"广东省\",:].values,\n",
    "     name = \"广东\"\n",
    ")\n",
    "\n",
    "甘肃 = Scatter(\n",
    "    x=[int(x) for x in dfe.columns], #列表推导将字符串转换成整数\n",
    "    y=dfe.loc[\"甘肃省\",:].values,\n",
    "     name = \"甘肃\"\n",
    ")\n",
    "layout = dict(title=\"水资源总量对比\", xaxis=dict(title='年份'), yaxis=dict(title='水资源总量（亿立方米）') )  #利用Layout做排版，增加标题和轴坐标的说明文字\n",
    "\n",
    "fig = dict(data=[北京,广东,甘肃], layout=layout) \n",
    "\n",
    "py.offline.plot(fig, filename = \"output_water.html\") #修改图例名字，注意前后一致"
   ]
  },
  {
   "cell_type": "markdown",
   "metadata": {},
   "source": [
    "# 实现时间序列的滑块与选择器 P115"
   ]
  },
  {
   "cell_type": "code",
   "execution_count": 100,
   "metadata": {},
   "outputs": [
    {
     "data": {
      "text/plain": [
       "[Timestamp('2017-01-01 00:00:00'),\n",
       " Timestamp('2016-01-01 00:00:00'),\n",
       " Timestamp('2015-01-01 00:00:00'),\n",
       " Timestamp('2014-01-01 00:00:00'),\n",
       " Timestamp('2013-01-01 00:00:00'),\n",
       " Timestamp('2012-01-01 00:00:00'),\n",
       " Timestamp('2011-01-01 00:00:00'),\n",
       " Timestamp('2010-01-01 00:00:00'),\n",
       " Timestamp('2009-01-01 00:00:00'),\n",
       " Timestamp('2008-01-01 00:00:00')]"
      ]
     },
     "execution_count": 100,
     "metadata": {},
     "output_type": "execute_result"
    }
   ],
   "source": [
    "[pd.to_datetime('01/01/{y}'.format(y=x), format=\"%m/%d/%Y\") for x in dfe.columns.values]  #年份做迭代处理"
   ]
  },
  {
   "cell_type": "code",
   "execution_count": 102,
   "metadata": {},
   "outputs": [
    {
     "data": {
      "text/plain": [
       "'output_water2.html'"
      ]
     },
     "execution_count": 102,
     "metadata": {},
     "output_type": "execute_result"
    }
   ],
   "source": [
    "import plotly as py\n",
    "from plotly.graph_objs import Scatter, Layout, Data\n",
    "\n",
    "北京 = Scatter(\n",
    "    x=[int(x) for x in dfe.columns], #列表推导将字符串转换成整数\n",
    "    y=dfe.loc[\"北京市\",:].values,\n",
    "    name = \"北京\"                    \n",
    ")\n",
    "\n",
    "广东 = Scatter(\n",
    "    x=[int(x) for x in dfe.columns], #列表推导将字符串转换成整数\n",
    "    y=dfe.loc[\"广东省\",:].values,\n",
    "     name = \"广东\"\n",
    ")\n",
    "\n",
    "甘肃 = Scatter(\n",
    "    x=[int(x) for x in dfe.columns], #列表推导将字符串转换成整数\n",
    "    y=dfe.loc[\"甘肃省\",:].values,\n",
    "     name = \"甘肃\"\n",
    ")\n",
    "\n",
    "layout = dict(xaxis=dict(rangeselector=dict( buttons=list([\n",
    "                                                dict(count=3,\n",
    "                                                     label=\"3年\",\n",
    "                                                     step=\"year\",\n",
    "                                                     stepmode=\"backward\"),\n",
    "                                                dict(count=5,\n",
    "                                                     label=\"5年\",\n",
    "                                                     step=\"year\",\n",
    "                                                     stepmode=\"backward\"),\n",
    "                                                dict(count=10,\n",
    "                                                     label=\"10年\",\n",
    "                                                     step=\"year\",\n",
    "                                                     stepmode=\"backward\"),\n",
    "                                               \n",
    "                                                dict(step=\"all\")\n",
    "                                            ])),\n",
    "                         rangeslider=dict(bgcolor=\"#70EC57\"),\n",
    "                         title='年份'\n",
    "                        ),\n",
    "              yaxis=dict(title='水资源总量（亿立方米）'),\n",
    "              title=\"水资源量对比\"               \n",
    "             )\n",
    "\n",
    "abc = dict(data=[北京,广东,甘肃], layout=layout) \n",
    "\n",
    "py.offline.plot(abc, filename = \"output_water2.html\")\n",
    "#              ^^^这里可以只放数据data，也可以将数据data和排版layout结合，这是典型的面向对象"
   ]
  },
  {
   "cell_type": "code",
   "execution_count": null,
   "metadata": {},
   "outputs": [],
   "source": []
  }
 ],
 "metadata": {
  "kernelspec": {
   "display_name": "Python 3",
   "language": "python",
   "name": "python3"
  },
  "language_info": {
   "codemirror_mode": {
    "name": "ipython",
    "version": 3
   },
   "file_extension": ".py",
   "mimetype": "text/x-python",
   "name": "python",
   "nbconvert_exporter": "python",
   "pygments_lexer": "ipython3",
   "version": "3.7.3"
  }
 },
 "nbformat": 4,
 "nbformat_minor": 2
}
